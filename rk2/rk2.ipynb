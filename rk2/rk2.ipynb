{
 "cells": [
  {
   "cell_type": "markdown",
   "id": "2941cbb8",
   "metadata": {},
   "source": [
    "# Рубежный контроль №2"
   ]
  },
  {
   "cell_type": "markdown",
   "id": "a024f558",
   "metadata": {},
   "source": [
    "### Бондаренко Иван ИУ5-61Б"
   ]
  },
  {
   "cell_type": "markdown",
   "id": "c7728846",
   "metadata": {},
   "source": [
    "## Задание. \n",
    "Для заданного набора данных (по Вашему варианту) постройте модели классификации или регрессии (в зависимости от конкретной задачи, рассматриваемой в наборе данных). Для построения моделей используйте методы 1 и 2 (по варианту для Вашей группы). Оцените качество моделей на основе подходящих метрик качества (не менее двух метрик). Какие метрики качества Вы использовали и почему? Какие выводы Вы можете сделать о качестве построенных моделей? Для построения моделей необходимо выполнить требуемую предобработку данных: заполнение пропусков, кодирование категориальных признаков, и т.д."
   ]
  },
  {
   "cell_type": "markdown",
   "id": "92027067",
   "metadata": {},
   "source": [
    "- Метод №1: Линейная/логистическая регрессия\n",
    "- Метод №2: Случайный лес"
   ]
  },
  {
   "cell_type": "code",
   "execution_count": 3,
   "id": "3770c0cb",
   "metadata": {},
   "outputs": [],
   "source": [
    "import pandas as pd\n",
    "from sklearn import preprocessing\n",
    "import numpy as np\n",
    "import seaborn as sns\n",
    "import matplotlib.pyplot as plt\n",
    "from sklearn.model_selection import train_test_split\n",
    "from sklearn.linear_model import LinearRegression\n",
    "from sklearn.metrics import r2_score, mean_squared_error\n",
    "from sklearn.ensemble import RandomForestRegressor"
   ]
  },
  {
   "cell_type": "code",
   "execution_count": 4,
   "id": "3d1c3c65",
   "metadata": {},
   "outputs": [],
   "source": [
    "#Загрузка датасета\n",
    "data = pd.read_csv(\"Admission_Predict.csv\")"
   ]
  },
  {
   "cell_type": "code",
   "execution_count": 5,
   "id": "3208f3cd",
   "metadata": {},
   "outputs": [
    {
     "data": {
      "text/html": [
       "<div>\n",
       "<style scoped>\n",
       "    .dataframe tbody tr th:only-of-type {\n",
       "        vertical-align: middle;\n",
       "    }\n",
       "\n",
       "    .dataframe tbody tr th {\n",
       "        vertical-align: top;\n",
       "    }\n",
       "\n",
       "    .dataframe thead th {\n",
       "        text-align: right;\n",
       "    }\n",
       "</style>\n",
       "<table border=\"1\" class=\"dataframe\">\n",
       "  <thead>\n",
       "    <tr style=\"text-align: right;\">\n",
       "      <th></th>\n",
       "      <th>#</th>\n",
       "      <th>GRE</th>\n",
       "      <th>TOEFL</th>\n",
       "      <th>UniversityRating</th>\n",
       "      <th>SOP</th>\n",
       "      <th>LOR</th>\n",
       "      <th>CGPA</th>\n",
       "      <th>Research</th>\n",
       "      <th>ChanceOfAdmit</th>\n",
       "    </tr>\n",
       "  </thead>\n",
       "  <tbody>\n",
       "    <tr>\n",
       "      <th>0</th>\n",
       "      <td>1</td>\n",
       "      <td>337</td>\n",
       "      <td>118</td>\n",
       "      <td>4</td>\n",
       "      <td>4.5</td>\n",
       "      <td>4.5</td>\n",
       "      <td>9.65</td>\n",
       "      <td>1</td>\n",
       "      <td>0.92</td>\n",
       "    </tr>\n",
       "    <tr>\n",
       "      <th>1</th>\n",
       "      <td>2</td>\n",
       "      <td>324</td>\n",
       "      <td>107</td>\n",
       "      <td>4</td>\n",
       "      <td>4.0</td>\n",
       "      <td>4.5</td>\n",
       "      <td>8.87</td>\n",
       "      <td>1</td>\n",
       "      <td>0.76</td>\n",
       "    </tr>\n",
       "    <tr>\n",
       "      <th>2</th>\n",
       "      <td>3</td>\n",
       "      <td>316</td>\n",
       "      <td>104</td>\n",
       "      <td>3</td>\n",
       "      <td>3.0</td>\n",
       "      <td>3.5</td>\n",
       "      <td>8.00</td>\n",
       "      <td>1</td>\n",
       "      <td>0.72</td>\n",
       "    </tr>\n",
       "    <tr>\n",
       "      <th>3</th>\n",
       "      <td>4</td>\n",
       "      <td>322</td>\n",
       "      <td>110</td>\n",
       "      <td>3</td>\n",
       "      <td>3.5</td>\n",
       "      <td>2.5</td>\n",
       "      <td>8.67</td>\n",
       "      <td>1</td>\n",
       "      <td>0.80</td>\n",
       "    </tr>\n",
       "    <tr>\n",
       "      <th>4</th>\n",
       "      <td>5</td>\n",
       "      <td>314</td>\n",
       "      <td>103</td>\n",
       "      <td>2</td>\n",
       "      <td>2.0</td>\n",
       "      <td>3.0</td>\n",
       "      <td>8.21</td>\n",
       "      <td>0</td>\n",
       "      <td>0.65</td>\n",
       "    </tr>\n",
       "  </tbody>\n",
       "</table>\n",
       "</div>"
      ],
      "text/plain": [
       "   #  GRE  TOEFL  UniversityRating  SOP  LOR   CGPA  Research  ChanceOfAdmit\n",
       "0  1  337    118                 4  4.5   4.5  9.65         1           0.92\n",
       "1  2  324    107                 4  4.0   4.5  8.87         1           0.76\n",
       "2  3  316    104                 3  3.0   3.5  8.00         1           0.72\n",
       "3  4  322    110                 3  3.5   2.5  8.67         1           0.80\n",
       "4  5  314    103                 2  2.0   3.0  8.21         0           0.65"
      ]
     },
     "execution_count": 5,
     "metadata": {},
     "output_type": "execute_result"
    }
   ],
   "source": [
    "data.head()"
   ]
  },
  {
   "cell_type": "markdown",
   "id": "e6a9dfc6",
   "metadata": {},
   "source": [
    "### Предобработка данных "
   ]
  },
  {
   "cell_type": "code",
   "execution_count": 6,
   "id": "28d9a091",
   "metadata": {},
   "outputs": [
    {
     "data": {
      "text/plain": [
       "#                     int64\n",
       "GRE                   int64\n",
       "TOEFL                 int64\n",
       "UniversityRating      int64\n",
       "SOP                 float64\n",
       "LOR                 float64\n",
       "CGPA                float64\n",
       "Research              int64\n",
       "ChanceOfAdmit       float64\n",
       "dtype: object"
      ]
     },
     "execution_count": 6,
     "metadata": {},
     "output_type": "execute_result"
    }
   ],
   "source": [
    "#Проверка типов данных\n",
    "data.dtypes"
   ]
  },
  {
   "cell_type": "code",
   "execution_count": 7,
   "id": "0074024f",
   "metadata": {},
   "outputs": [
    {
     "data": {
      "text/plain": [
       "(400, 9)"
      ]
     },
     "execution_count": 7,
     "metadata": {},
     "output_type": "execute_result"
    }
   ],
   "source": [
    "#Размер датасета\n",
    "data.shape"
   ]
  },
  {
   "cell_type": "code",
   "execution_count": 8,
   "id": "32430af0",
   "metadata": {},
   "outputs": [
    {
     "data": {
      "text/plain": [
       "#                   0\n",
       "GRE                 0\n",
       "TOEFL               0\n",
       "UniversityRating    0\n",
       "SOP                 0\n",
       "LOR                 0\n",
       "CGPA                0\n",
       "Research            0\n",
       "ChanceOfAdmit       0\n",
       "dtype: int64"
      ]
     },
     "execution_count": 8,
     "metadata": {},
     "output_type": "execute_result"
    }
   ],
   "source": [
    "#Проверка пустых значений\n",
    "data.isnull().sum()"
   ]
  },
  {
   "cell_type": "code",
   "execution_count": 9,
   "id": "2d5aec45",
   "metadata": {},
   "outputs": [],
   "source": [
    "#Удаление строк с пустыми значениями\n",
    "data = data.dropna(axis=0)\n",
    "data = data.drop(columns=['#'], axis=1)"
   ]
  },
  {
   "cell_type": "code",
   "execution_count": 10,
   "id": "95d8037b",
   "metadata": {},
   "outputs": [
    {
     "data": {
      "text/plain": [
       "True"
      ]
     },
     "execution_count": 10,
     "metadata": {},
     "output_type": "execute_result"
    }
   ],
   "source": [
    "data.rename(columns = { 'ChanceOfAdmit': 'COA'}, inplace = True)\n",
    "data\n",
    "TARGET_COL_NAME = 'COA'\n",
    "TARGET_IS_NUMERIC = data[TARGET_COL_NAME].dtype != 'O'\n",
    "TARGET_IS_NUMERIC"
   ]
  },
  {
   "cell_type": "code",
   "execution_count": 11,
   "id": "45f2585e",
   "metadata": {},
   "outputs": [
    {
     "data": {
      "text/plain": [
       "<AxesSubplot:>"
      ]
     },
     "execution_count": 11,
     "metadata": {},
     "output_type": "execute_result"
    },
    {
     "data": {
      "image/png": "[encoded data removed]",
      "text/plain": [
       "<Figure size 1080x648 with 2 Axes>"
      ]
     },
     "metadata": {
      "needs_background": "light"
     },
     "output_type": "display_data"
    }
   ],
   "source": [
    "#Построение корреляционной матрицы\n",
    "fig, ax = plt.subplots(figsize=(15,9))\n",
    "sns.heatmap(data.corr(), ax=ax,annot=True, fmt=\".2f\", center=0)"
   ]
  },
  {
   "cell_type": "markdown",
   "id": "c46f4456",
   "metadata": {},
   "source": [
    "В качестве целевого признака возьмём столбец \"COA\""
   ]
  },
  {
   "cell_type": "code",
   "execution_count": 12,
   "id": "e7a7cad9",
   "metadata": {},
   "outputs": [
    {
     "data": {
      "text/plain": [
       "GRE                 0.802610\n",
       "TOEFL               0.791594\n",
       "UniversityRating    0.711250\n",
       "SOP                 0.675732\n",
       "LOR                 0.669889\n",
       "CGPA                0.873289\n",
       "Research            0.553202\n",
       "COA                 1.000000\n",
       "Name: COA, dtype: float64"
      ]
     },
     "execution_count": 12,
     "metadata": {},
     "output_type": "execute_result"
    }
   ],
   "source": [
    "data.corr()['COA']"
   ]
  },
  {
   "cell_type": "markdown",
   "id": "4c6b1fbc",
   "metadata": {},
   "source": [
    "Признаки `GRE Score`, `TOEFL Score`, `CGPA` сильно коррелируют между собой, следовательно, для того, чтобы повысить качество модели, стоит выбрать из них только один, который наиболее сильно коррелирует с целевым признаком, т.е. `CGPA`.\n",
    "\n",
    "Таким образом, для построения модели использовались бы следующие признаки: `UniversityRating`, `SOP`, `LOR`, `CGPA`, `Research`, `COA`. "
   ]
  },
  {
   "cell_type": "code",
   "execution_count": 13,
   "id": "90bb7752",
   "metadata": {},
   "outputs": [],
   "source": [
    "data = data.drop(columns=['GRE', 'TOEFL'], axis=1)"
   ]
  },
  {
   "cell_type": "markdown",
   "id": "88cb862e",
   "metadata": {},
   "source": [
    "### Масштабирование"
   ]
  },
  {
   "cell_type": "code",
   "execution_count": 14,
   "id": "fa0bda43",
   "metadata": {},
   "outputs": [
    {
     "data": {
      "text/html": [
       "<div>\n",
       "<style scoped>\n",
       "    .dataframe tbody tr th:only-of-type {\n",
       "        vertical-align: middle;\n",
       "    }\n",
       "\n",
       "    .dataframe tbody tr th {\n",
       "        vertical-align: top;\n",
       "    }\n",
       "\n",
       "    .dataframe thead th {\n",
       "        text-align: right;\n",
       "    }\n",
       "</style>\n",
       "<table border=\"1\" class=\"dataframe\">\n",
       "  <thead>\n",
       "    <tr style=\"text-align: right;\">\n",
       "      <th></th>\n",
       "      <th>UniversityRating</th>\n",
       "      <th>SOP</th>\n",
       "      <th>LOR</th>\n",
       "      <th>CGPA</th>\n",
       "      <th>Research</th>\n",
       "      <th>COA</th>\n",
       "    </tr>\n",
       "  </thead>\n",
       "  <tbody>\n",
       "    <tr>\n",
       "      <th>0</th>\n",
       "      <td>0.75</td>\n",
       "      <td>0.875</td>\n",
       "      <td>0.875</td>\n",
       "      <td>0.913462</td>\n",
       "      <td>1.0</td>\n",
       "      <td>0.92</td>\n",
       "    </tr>\n",
       "    <tr>\n",
       "      <th>1</th>\n",
       "      <td>0.75</td>\n",
       "      <td>0.750</td>\n",
       "      <td>0.875</td>\n",
       "      <td>0.663462</td>\n",
       "      <td>1.0</td>\n",
       "      <td>0.76</td>\n",
       "    </tr>\n",
       "    <tr>\n",
       "      <th>2</th>\n",
       "      <td>0.50</td>\n",
       "      <td>0.500</td>\n",
       "      <td>0.625</td>\n",
       "      <td>0.384615</td>\n",
       "      <td>1.0</td>\n",
       "      <td>0.72</td>\n",
       "    </tr>\n",
       "    <tr>\n",
       "      <th>3</th>\n",
       "      <td>0.50</td>\n",
       "      <td>0.625</td>\n",
       "      <td>0.375</td>\n",
       "      <td>0.599359</td>\n",
       "      <td>1.0</td>\n",
       "      <td>0.80</td>\n",
       "    </tr>\n",
       "    <tr>\n",
       "      <th>4</th>\n",
       "      <td>0.25</td>\n",
       "      <td>0.250</td>\n",
       "      <td>0.500</td>\n",
       "      <td>0.451923</td>\n",
       "      <td>0.0</td>\n",
       "      <td>0.65</td>\n",
       "    </tr>\n",
       "    <tr>\n",
       "      <th>...</th>\n",
       "      <td>...</td>\n",
       "      <td>...</td>\n",
       "      <td>...</td>\n",
       "      <td>...</td>\n",
       "      <td>...</td>\n",
       "      <td>...</td>\n",
       "    </tr>\n",
       "    <tr>\n",
       "      <th>395</th>\n",
       "      <td>0.50</td>\n",
       "      <td>0.625</td>\n",
       "      <td>0.625</td>\n",
       "      <td>0.717949</td>\n",
       "      <td>1.0</td>\n",
       "      <td>0.82</td>\n",
       "    </tr>\n",
       "    <tr>\n",
       "      <th>396</th>\n",
       "      <td>0.50</td>\n",
       "      <td>0.500</td>\n",
       "      <td>0.625</td>\n",
       "      <td>0.740385</td>\n",
       "      <td>1.0</td>\n",
       "      <td>0.84</td>\n",
       "    </tr>\n",
       "    <tr>\n",
       "      <th>397</th>\n",
       "      <td>0.75</td>\n",
       "      <td>1.000</td>\n",
       "      <td>0.875</td>\n",
       "      <td>0.849359</td>\n",
       "      <td>1.0</td>\n",
       "      <td>0.91</td>\n",
       "    </tr>\n",
       "    <tr>\n",
       "      <th>398</th>\n",
       "      <td>0.50</td>\n",
       "      <td>0.625</td>\n",
       "      <td>0.750</td>\n",
       "      <td>0.634615</td>\n",
       "      <td>0.0</td>\n",
       "      <td>0.67</td>\n",
       "    </tr>\n",
       "    <tr>\n",
       "      <th>399</th>\n",
       "      <td>0.75</td>\n",
       "      <td>1.000</td>\n",
       "      <td>0.750</td>\n",
       "      <td>0.916667</td>\n",
       "      <td>1.0</td>\n",
       "      <td>0.95</td>\n",
       "    </tr>\n",
       "  </tbody>\n",
       "</table>\n",
       "<p>400 rows × 6 columns</p>\n",
       "</div>"
      ],
      "text/plain": [
       "     UniversityRating    SOP   LOR       CGPA  Research   COA\n",
       "0                0.75  0.875  0.875  0.913462       1.0  0.92\n",
       "1                0.75  0.750  0.875  0.663462       1.0  0.76\n",
       "2                0.50  0.500  0.625  0.384615       1.0  0.72\n",
       "3                0.50  0.625  0.375  0.599359       1.0  0.80\n",
       "4                0.25  0.250  0.500  0.451923       0.0  0.65\n",
       "..                ...    ...    ...       ...       ...   ...\n",
       "395              0.50  0.625  0.625  0.717949       1.0  0.82\n",
       "396              0.50  0.500  0.625  0.740385       1.0  0.84\n",
       "397              0.75  1.000  0.875  0.849359       1.0  0.91\n",
       "398              0.50  0.625  0.750  0.634615       0.0  0.67\n",
       "399              0.75  1.000  0.750  0.916667       1.0  0.95\n",
       "\n",
       "[400 rows x 6 columns]"
      ]
     },
     "execution_count": 14,
     "metadata": {},
     "output_type": "execute_result"
    }
   ],
   "source": [
    "scaler = preprocessing.MinMaxScaler()\n",
    "\n",
    "not_number_cols = data.select_dtypes(include=['object'])\n",
    "number_cols = data.select_dtypes(exclude=['object'])\n",
    "\n",
    "number_fields_source = number_cols.loc[:, number_cols.columns!=TARGET_COL_NAME] if TARGET_IS_NUMERIC else number_cols\n",
    "\n",
    "for col_name in number_fields_source:\n",
    "    data[col_name] = scaler.fit_transform(data[[col_name]])\n",
    "\n",
    "data\n"
   ]
  },
  {
   "cell_type": "code",
   "execution_count": 15,
   "id": "a382945f",
   "metadata": {},
   "outputs": [],
   "source": [
    "#Разделение выборки на обучающую и тестовую\n",
    "target = \"COA\"\n",
    "xArray = data.drop(target, axis=1)\n",
    "yArray = data[target]\n",
    "trainX, testX, trainY, testY = train_test_split(xArray, yArray, test_size=0.2, random_state=1)"
   ]
  },
  {
   "cell_type": "markdown",
   "id": "66566a1f",
   "metadata": {},
   "source": [
    "### Линейная регрессия"
   ]
  },
  {
   "cell_type": "code",
   "execution_count": 16,
   "id": "dc360596",
   "metadata": {},
   "outputs": [
    {
     "data": {
      "text/plain": [
       "LinearRegression()"
      ]
     },
     "execution_count": 16,
     "metadata": {},
     "output_type": "execute_result"
    }
   ],
   "source": [
    "LR = LinearRegression()\n",
    "LR.fit(trainX, trainY)"
   ]
  },
  {
   "cell_type": "markdown",
   "id": "62a3831e",
   "metadata": {},
   "source": [
    "Для оценки качества будем использовать:\n",
    "- коэффициента детерминации, чтобы узнать насколько модель близка к высококачественной\n",
    "- корень из средней квадратичной ошибки, чтобы выделить большие ошибки в предсказании модели"
   ]
  },
  {
   "cell_type": "code",
   "execution_count": 17,
   "id": "b3a2f14b",
   "metadata": {},
   "outputs": [],
   "source": [
    "R2_LR = r2_score(testY, LR.predict(testX))\n",
    "RMSE_LR = mean_squared_error(testY, LR.predict(testX), squared=True)"
   ]
  },
  {
   "cell_type": "code",
   "execution_count": 18,
   "id": "2b83efc6",
   "metadata": {},
   "outputs": [
    {
     "name": "stdout",
     "output_type": "stream",
     "text": [
      "Оценка качества модели с помощью коэффициента детерминации: 0.79323683002294\n",
      "Корень из средней квадратичной ошибки: 0.00478190229094633\n"
     ]
    }
   ],
   "source": [
    "print(\"Оценка качества модели с помощью коэффициента детерминации: {}\".format(R2_LR))\n",
    "print(\"Корень из средней квадратичной ошибки: {}\".format(RMSE_LR))"
   ]
  },
  {
   "cell_type": "markdown",
   "id": "bef41af1",
   "metadata": {},
   "source": [
    "С помощью используемых метрик, можем сделать вывод, что качество модели низкое в связи с низкой корреляцией целевого признака с другими параметрами"
   ]
  },
  {
   "cell_type": "markdown",
   "id": "b3fbce4d",
   "metadata": {},
   "source": [
    "### Случайный лес"
   ]
  },
  {
   "cell_type": "code",
   "execution_count": 19,
   "id": "f44e5a78",
   "metadata": {},
   "outputs": [
    {
     "data": {
      "text/plain": [
       "RandomForestRegressor(n_estimators=15, random_state=123)"
      ]
     },
     "execution_count": 19,
     "metadata": {},
     "output_type": "execute_result"
    }
   ],
   "source": [
    "RT = RandomForestRegressor(n_estimators=15, random_state=123)\n",
    "RT.fit(trainX, trainY)"
   ]
  },
  {
   "cell_type": "code",
   "execution_count": 20,
   "id": "3ef19edf",
   "metadata": {},
   "outputs": [],
   "source": [
    "R2_RT = r2_score(testY, RT.predict(testX))"
   ]
  },
  {
   "cell_type": "code",
   "execution_count": 21,
   "id": "adcff0f0",
   "metadata": {},
   "outputs": [],
   "source": [
    "RMSE_RT= mean_squared_error(testY, RT.predict(testX), squared=True)"
   ]
  },
  {
   "cell_type": "code",
   "execution_count": 22,
   "id": "365dd2b3",
   "metadata": {},
   "outputs": [
    {
     "name": "stdout",
     "output_type": "stream",
     "text": [
      "Оценка качества модели с помощью коэффициента детерминации: 0.7476013789537499\n",
      "Корень из средней квадратичной ошибки: 0.005837333333333334\n"
     ]
    }
   ],
   "source": [
    "print(\"Оценка качества модели с помощью коэффициента детерминации: {}\".format(R2_RT))\n",
    "print(\"Корень из средней квадратичной ошибки: {}\".format(RMSE_RT))"
   ]
  },
  {
   "cell_type": "markdown",
   "id": "ba40f5be",
   "metadata": {},
   "source": [
    "В данном случае, можем увидеть, что модель линейной регрессии в случае отсутствия сильной корреляции между признаками имеет более высокое качество в задаче регрессии, чем ансамблевый случайный лес. Качество моделей тем не менее низкое и для улучшения можно попробовать перебрать параметр для случайного леса, либо выбрать другой набор входных признаков."
   ]
  },
  {
   "cell_type": "code",
   "execution_count": null,
   "id": "b5854e0b",
   "metadata": {},
   "outputs": [],
   "source": []
  }
 ],
 "metadata": {
  "kernelspec": {
   "display_name": "Python 3 (ipykernel)",
   "language": "python",
   "name": "python3"
  },
  "language_info": {
   "codemirror_mode": {
    "name": "ipython",
    "version": 3
   },
   "file_extension": ".py",
   "mimetype": "text/x-python",
   "name": "python",
   "nbconvert_exporter": "python",
   "pygments_lexer": "ipython3",
   "version": "3.7.6"
  }
 },
 "nbformat": 4,
 "nbformat_minor": 5
}
